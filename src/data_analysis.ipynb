{
 "cells": [
  {
   "cell_type": "markdown",
   "metadata": {},
   "source": [
    "# Sequential Model"
   ]
  },
  {
   "cell_type": "code",
   "execution_count": 2,
   "metadata": {},
   "outputs": [],
   "source": [
    "import pandas as pd\n",
    "import matplotlib.pyplot as plt"
   ]
  },
  {
   "cell_type": "code",
   "execution_count": 2,
   "metadata": {},
   "outputs": [
    {
     "data": {
      "text/html": [
       "<div>\n",
       "<style scoped>\n",
       "    .dataframe tbody tr th:only-of-type {\n",
       "        vertical-align: middle;\n",
       "    }\n",
       "\n",
       "    .dataframe tbody tr th {\n",
       "        vertical-align: top;\n",
       "    }\n",
       "\n",
       "    .dataframe thead th {\n",
       "        text-align: right;\n",
       "    }\n",
       "</style>\n",
       "<table border=\"1\" class=\"dataframe\">\n",
       "  <thead>\n",
       "    <tr style=\"text-align: right;\">\n",
       "      <th></th>\n",
       "      <th>epoch</th>\n",
       "      <th>batch</th>\n",
       "      <th>batch_time(s)</th>\n",
       "      <th>phase</th>\n",
       "    </tr>\n",
       "  </thead>\n",
       "  <tbody>\n",
       "    <tr>\n",
       "      <th>0</th>\n",
       "      <td>0</td>\n",
       "      <td>0</td>\n",
       "      <td>37.927835</td>\n",
       "      <td>train</td>\n",
       "    </tr>\n",
       "    <tr>\n",
       "      <th>1</th>\n",
       "      <td>0</td>\n",
       "      <td>1</td>\n",
       "      <td>37.692268</td>\n",
       "      <td>train</td>\n",
       "    </tr>\n",
       "    <tr>\n",
       "      <th>2</th>\n",
       "      <td>0</td>\n",
       "      <td>2</td>\n",
       "      <td>37.121747</td>\n",
       "      <td>train</td>\n",
       "    </tr>\n",
       "    <tr>\n",
       "      <th>3</th>\n",
       "      <td>0</td>\n",
       "      <td>3</td>\n",
       "      <td>36.992582</td>\n",
       "      <td>train</td>\n",
       "    </tr>\n",
       "    <tr>\n",
       "      <th>4</th>\n",
       "      <td>0</td>\n",
       "      <td>4</td>\n",
       "      <td>36.978777</td>\n",
       "      <td>train</td>\n",
       "    </tr>\n",
       "    <tr>\n",
       "      <th>5</th>\n",
       "      <td>0</td>\n",
       "      <td>5</td>\n",
       "      <td>37.005965</td>\n",
       "      <td>train</td>\n",
       "    </tr>\n",
       "    <tr>\n",
       "      <th>6</th>\n",
       "      <td>0</td>\n",
       "      <td>6</td>\n",
       "      <td>36.982660</td>\n",
       "      <td>train</td>\n",
       "    </tr>\n",
       "    <tr>\n",
       "      <th>7</th>\n",
       "      <td>0</td>\n",
       "      <td>7</td>\n",
       "      <td>37.064564</td>\n",
       "      <td>train</td>\n",
       "    </tr>\n",
       "    <tr>\n",
       "      <th>8</th>\n",
       "      <td>0</td>\n",
       "      <td>8</td>\n",
       "      <td>37.602187</td>\n",
       "      <td>train</td>\n",
       "    </tr>\n",
       "    <tr>\n",
       "      <th>9</th>\n",
       "      <td>0</td>\n",
       "      <td>9</td>\n",
       "      <td>37.391119</td>\n",
       "      <td>train</td>\n",
       "    </tr>\n",
       "  </tbody>\n",
       "</table>\n",
       "</div>"
      ],
      "text/plain": [
       "   epoch  batch  batch_time(s)  phase\n",
       "0      0      0      37.927835  train\n",
       "1      0      1      37.692268  train\n",
       "2      0      2      37.121747  train\n",
       "3      0      3      36.992582  train\n",
       "4      0      4      36.978777  train\n",
       "5      0      5      37.005965  train\n",
       "6      0      6      36.982660  train\n",
       "7      0      7      37.064564  train\n",
       "8      0      8      37.602187  train\n",
       "9      0      9      37.391119  train"
      ]
     },
     "execution_count": 2,
     "metadata": {},
     "output_type": "execute_result"
    }
   ],
   "source": [
    "LOG_FILE = '../log/seq.csv'\n",
    "\n",
    "df = pd.read_csv(LOG_FILE)\n",
    "df['phase'] = df.replace({'phase': {0: 'train', 1: 'val'}})['phase']\n",
    "df.head(n=10)"
   ]
  },
  {
   "cell_type": "code",
   "execution_count": 3,
   "metadata": {},
   "outputs": [
    {
     "data": {
      "text/html": [
       "<div>\n",
       "<style scoped>\n",
       "    .dataframe tbody tr th:only-of-type {\n",
       "        vertical-align: middle;\n",
       "    }\n",
       "\n",
       "    .dataframe tbody tr th {\n",
       "        vertical-align: top;\n",
       "    }\n",
       "\n",
       "    .dataframe thead th {\n",
       "        text-align: right;\n",
       "    }\n",
       "</style>\n",
       "<table border=\"1\" class=\"dataframe\">\n",
       "  <thead>\n",
       "    <tr style=\"text-align: right;\">\n",
       "      <th></th>\n",
       "      <th>count</th>\n",
       "      <th>mean</th>\n",
       "      <th>std</th>\n",
       "      <th>min</th>\n",
       "      <th>25%</th>\n",
       "      <th>50%</th>\n",
       "      <th>75%</th>\n",
       "      <th>max</th>\n",
       "    </tr>\n",
       "    <tr>\n",
       "      <th>phase</th>\n",
       "      <th></th>\n",
       "      <th></th>\n",
       "      <th></th>\n",
       "      <th></th>\n",
       "      <th></th>\n",
       "      <th></th>\n",
       "      <th></th>\n",
       "      <th></th>\n",
       "    </tr>\n",
       "  </thead>\n",
       "  <tbody>\n",
       "    <tr>\n",
       "      <th>train</th>\n",
       "      <td>100.0</td>\n",
       "      <td>37.444571</td>\n",
       "      <td>0.311581</td>\n",
       "      <td>36.978777</td>\n",
       "      <td>37.333533</td>\n",
       "      <td>37.418802</td>\n",
       "      <td>37.535844</td>\n",
       "      <td>39.849170</td>\n",
       "    </tr>\n",
       "    <tr>\n",
       "      <th>val</th>\n",
       "      <td>20.0</td>\n",
       "      <td>13.561432</td>\n",
       "      <td>0.042350</td>\n",
       "      <td>13.469661</td>\n",
       "      <td>13.538200</td>\n",
       "      <td>13.561505</td>\n",
       "      <td>13.601222</td>\n",
       "      <td>13.622708</td>\n",
       "    </tr>\n",
       "  </tbody>\n",
       "</table>\n",
       "</div>"
      ],
      "text/plain": [
       "       count       mean       std        min        25%        50%        75%  \\\n",
       "phase                                                                           \n",
       "train  100.0  37.444571  0.311581  36.978777  37.333533  37.418802  37.535844   \n",
       "val     20.0  13.561432  0.042350  13.469661  13.538200  13.561505  13.601222   \n",
       "\n",
       "             max  \n",
       "phase             \n",
       "train  39.849170  \n",
       "val    13.622708  "
      ]
     },
     "execution_count": 3,
     "metadata": {},
     "output_type": "execute_result"
    }
   ],
   "source": [
    "df.groupby('phase')['batch_time(s)'].describe()"
   ]
  },
  {
   "cell_type": "code",
   "execution_count": 4,
   "metadata": {},
   "outputs": [
    {
     "data": {
      "text/plain": [
       "count       2.000000\n",
       "mean     2007.842853\n",
       "std         4.639145\n",
       "min      2004.562482\n",
       "25%      2006.202667\n",
       "50%      2007.842853\n",
       "75%      2009.483038\n",
       "max      2011.123224\n",
       "Name: batch_time(s), dtype: float64"
      ]
     },
     "execution_count": 4,
     "metadata": {},
     "output_type": "execute_result"
    }
   ],
   "source": [
    "df.groupby('epoch')['batch_time(s)'].sum().describe()"
   ]
  },
  {
   "cell_type": "markdown",
   "metadata": {},
   "source": [
    "# Pipeline Model"
   ]
  },
  {
   "cell_type": "markdown",
   "metadata": {},
   "source": [
    "## 2-Stages"
   ]
  },
  {
   "cell_type": "markdown",
   "metadata": {},
   "source": [
    "### 10 Microbatches"
   ]
  },
  {
   "cell_type": "code",
   "execution_count": 5,
   "metadata": {},
   "outputs": [],
   "source": [
    "LOG_FILE = '../log/pipe_0_micro10_stage2.csv'\n",
    "\n",
    "df = pd.read_csv(LOG_FILE)\n",
    "df['phase'] = df.replace({'phase': {0: 'train', 1: 'val'}})['phase']"
   ]
  },
  {
   "cell_type": "code",
   "execution_count": null,
   "metadata": {},
   "outputs": [
    {
     "data": {
      "text/html": [
       "<div>\n",
       "<style scoped>\n",
       "    .dataframe tbody tr th:only-of-type {\n",
       "        vertical-align: middle;\n",
       "    }\n",
       "\n",
       "    .dataframe tbody tr th {\n",
       "        vertical-align: top;\n",
       "    }\n",
       "\n",
       "    .dataframe thead th {\n",
       "        text-align: right;\n",
       "    }\n",
       "</style>\n",
       "<table border=\"1\" class=\"dataframe\">\n",
       "  <thead>\n",
       "    <tr style=\"text-align: right;\">\n",
       "      <th></th>\n",
       "      <th>count</th>\n",
       "      <th>mean</th>\n",
       "      <th>std</th>\n",
       "      <th>min</th>\n",
       "      <th>25%</th>\n",
       "      <th>50%</th>\n",
       "      <th>75%</th>\n",
       "      <th>max</th>\n",
       "    </tr>\n",
       "    <tr>\n",
       "      <th>phase</th>\n",
       "      <th></th>\n",
       "      <th></th>\n",
       "      <th></th>\n",
       "      <th></th>\n",
       "      <th></th>\n",
       "      <th></th>\n",
       "      <th></th>\n",
       "      <th></th>\n",
       "    </tr>\n",
       "  </thead>\n",
       "  <tbody>\n",
       "    <tr>\n",
       "      <th>train</th>\n",
       "      <td>100.0</td>\n",
       "      <td>25.686979</td>\n",
       "      <td>1.026166</td>\n",
       "      <td>19.591154</td>\n",
       "      <td>25.407748</td>\n",
       "      <td>25.818709</td>\n",
       "      <td>26.197956</td>\n",
       "      <td>27.059549</td>\n",
       "    </tr>\n",
       "    <tr>\n",
       "      <th>val</th>\n",
       "      <td>20.0</td>\n",
       "      <td>8.189267</td>\n",
       "      <td>1.757590</td>\n",
       "      <td>7.531962</td>\n",
       "      <td>7.565194</td>\n",
       "      <td>7.643546</td>\n",
       "      <td>7.691071</td>\n",
       "      <td>13.870680</td>\n",
       "    </tr>\n",
       "  </tbody>\n",
       "</table>\n",
       "</div>"
      ],
      "text/plain": [
       "       count       mean       std        min        25%        50%        75%  \\\n",
       "phase                                                                           \n",
       "train  100.0  25.686979  1.026166  19.591154  25.407748  25.818709  26.197956   \n",
       "val     20.0   8.189267  1.757590   7.531962   7.565194   7.643546   7.691071   \n",
       "\n",
       "             max  \n",
       "phase             \n",
       "train  27.059549  \n",
       "val    13.870680  "
      ]
     },
     "execution_count": 6,
     "metadata": {},
     "output_type": "execute_result"
    }
   ],
   "source": [
    "df.groupby('phase')['batch_time(s)'].describe()"
   ]
  },
  {
   "cell_type": "code",
   "execution_count": 7,
   "metadata": {},
   "outputs": [
    {
     "data": {
      "text/plain": [
       "count       2.000000\n",
       "mean     1366.241614\n",
       "std         6.544388\n",
       "min      1361.614033\n",
       "25%      1363.927823\n",
       "50%      1366.241614\n",
       "75%      1368.555404\n",
       "max      1370.869195\n",
       "Name: batch_time(s), dtype: float64"
      ]
     },
     "execution_count": 7,
     "metadata": {},
     "output_type": "execute_result"
    }
   ],
   "source": [
    "df.groupby('epoch')['batch_time(s)'].sum().describe()"
   ]
  },
  {
   "cell_type": "markdown",
   "metadata": {},
   "source": [
    "### 5 Microbatches"
   ]
  },
  {
   "cell_type": "code",
   "execution_count": 8,
   "metadata": {},
   "outputs": [],
   "source": [
    "LOG_FILE = '../log/pipe_0_micro5_stage2.csv'\n",
    "\n",
    "df = pd.read_csv(LOG_FILE)\n",
    "df['phase'] = df.replace({'phase': {0: 'train', 1: 'val'}})['phase']"
   ]
  },
  {
   "cell_type": "code",
   "execution_count": 9,
   "metadata": {},
   "outputs": [
    {
     "data": {
      "text/html": [
       "<div>\n",
       "<style scoped>\n",
       "    .dataframe tbody tr th:only-of-type {\n",
       "        vertical-align: middle;\n",
       "    }\n",
       "\n",
       "    .dataframe tbody tr th {\n",
       "        vertical-align: top;\n",
       "    }\n",
       "\n",
       "    .dataframe thead th {\n",
       "        text-align: right;\n",
       "    }\n",
       "</style>\n",
       "<table border=\"1\" class=\"dataframe\">\n",
       "  <thead>\n",
       "    <tr style=\"text-align: right;\">\n",
       "      <th></th>\n",
       "      <th>count</th>\n",
       "      <th>mean</th>\n",
       "      <th>std</th>\n",
       "      <th>min</th>\n",
       "      <th>25%</th>\n",
       "      <th>50%</th>\n",
       "      <th>75%</th>\n",
       "      <th>max</th>\n",
       "    </tr>\n",
       "    <tr>\n",
       "      <th>phase</th>\n",
       "      <th></th>\n",
       "      <th></th>\n",
       "      <th></th>\n",
       "      <th></th>\n",
       "      <th></th>\n",
       "      <th></th>\n",
       "      <th></th>\n",
       "      <th></th>\n",
       "    </tr>\n",
       "  </thead>\n",
       "  <tbody>\n",
       "    <tr>\n",
       "      <th>train</th>\n",
       "      <td>100.0</td>\n",
       "      <td>19.022151</td>\n",
       "      <td>0.099282</td>\n",
       "      <td>18.936286</td>\n",
       "      <td>18.982342</td>\n",
       "      <td>19.010414</td>\n",
       "      <td>19.042588</td>\n",
       "      <td>19.916269</td>\n",
       "    </tr>\n",
       "    <tr>\n",
       "      <th>val</th>\n",
       "      <td>20.0</td>\n",
       "      <td>7.245916</td>\n",
       "      <td>0.021765</td>\n",
       "      <td>7.206877</td>\n",
       "      <td>7.229005</td>\n",
       "      <td>7.242957</td>\n",
       "      <td>7.263358</td>\n",
       "      <td>7.281318</td>\n",
       "    </tr>\n",
       "  </tbody>\n",
       "</table>\n",
       "</div>"
      ],
      "text/plain": [
       "       count       mean       std        min        25%        50%        75%  \\\n",
       "phase                                                                           \n",
       "train  100.0  19.022151  0.099282  18.936286  18.982342  19.010414  19.042588   \n",
       "val     20.0   7.245916  0.021765   7.206877   7.229005   7.242957   7.263358   \n",
       "\n",
       "             max  \n",
       "phase             \n",
       "train  19.916269  \n",
       "val     7.281318  "
      ]
     },
     "execution_count": 9,
     "metadata": {},
     "output_type": "execute_result"
    }
   ],
   "source": [
    "df.groupby('phase')['batch_time(s)'].describe()"
   ]
  },
  {
   "cell_type": "code",
   "execution_count": 10,
   "metadata": {},
   "outputs": [
    {
     "data": {
      "text/plain": [
       "count       2.000000\n",
       "mean     1023.566705\n",
       "std         1.262030\n",
       "min      1022.674315\n",
       "25%      1023.120510\n",
       "50%      1023.566705\n",
       "75%      1024.012900\n",
       "max      1024.459095\n",
       "Name: batch_time(s), dtype: float64"
      ]
     },
     "execution_count": 10,
     "metadata": {},
     "output_type": "execute_result"
    }
   ],
   "source": [
    "df.groupby('epoch')['batch_time(s)'].sum().describe()"
   ]
  },
  {
   "cell_type": "markdown",
   "metadata": {},
   "source": [
    "## 4-Stages"
   ]
  },
  {
   "cell_type": "markdown",
   "metadata": {},
   "source": [
    "### 10 Microbatches"
   ]
  },
  {
   "cell_type": "code",
   "execution_count": 11,
   "metadata": {},
   "outputs": [],
   "source": [
    "LOG_FILE = '../log/pipe_0_micro10_stage4.csv'\n",
    "\n",
    "df = pd.read_csv(LOG_FILE)\n",
    "df['phase'] = df.replace({'phase': {0: 'train', 1: 'val'}})['phase']"
   ]
  },
  {
   "cell_type": "code",
   "execution_count": null,
   "metadata": {},
   "outputs": [
    {
     "data": {
      "text/html": [
       "<div>\n",
       "<style scoped>\n",
       "    .dataframe tbody tr th:only-of-type {\n",
       "        vertical-align: middle;\n",
       "    }\n",
       "\n",
       "    .dataframe tbody tr th {\n",
       "        vertical-align: top;\n",
       "    }\n",
       "\n",
       "    .dataframe thead th {\n",
       "        text-align: right;\n",
       "    }\n",
       "</style>\n",
       "<table border=\"1\" class=\"dataframe\">\n",
       "  <thead>\n",
       "    <tr style=\"text-align: right;\">\n",
       "      <th></th>\n",
       "      <th>count</th>\n",
       "      <th>mean</th>\n",
       "      <th>std</th>\n",
       "      <th>min</th>\n",
       "      <th>25%</th>\n",
       "      <th>50%</th>\n",
       "      <th>75%</th>\n",
       "      <th>max</th>\n",
       "    </tr>\n",
       "    <tr>\n",
       "      <th>phase</th>\n",
       "      <th></th>\n",
       "      <th></th>\n",
       "      <th></th>\n",
       "      <th></th>\n",
       "      <th></th>\n",
       "      <th></th>\n",
       "      <th></th>\n",
       "      <th></th>\n",
       "    </tr>\n",
       "  </thead>\n",
       "  <tbody>\n",
       "    <tr>\n",
       "      <th>train</th>\n",
       "      <td>100.0</td>\n",
       "      <td>29.364054</td>\n",
       "      <td>0.171964</td>\n",
       "      <td>28.919555</td>\n",
       "      <td>29.225830</td>\n",
       "      <td>29.436897</td>\n",
       "      <td>29.476227</td>\n",
       "      <td>29.629242</td>\n",
       "    </tr>\n",
       "    <tr>\n",
       "      <th>val</th>\n",
       "      <td>20.0</td>\n",
       "      <td>11.081379</td>\n",
       "      <td>0.049586</td>\n",
       "      <td>11.017027</td>\n",
       "      <td>11.037483</td>\n",
       "      <td>11.079573</td>\n",
       "      <td>11.124048</td>\n",
       "      <td>11.163506</td>\n",
       "    </tr>\n",
       "  </tbody>\n",
       "</table>\n",
       "</div>"
      ],
      "text/plain": [
       "       count       mean       std        min        25%        50%        75%  \\\n",
       "phase                                                                           \n",
       "train  100.0  29.364054  0.171964  28.919555  29.225830  29.436897  29.476227   \n",
       "val     20.0  11.081379  0.049586  11.017027  11.037483  11.079573  11.124048   \n",
       "\n",
       "             max  \n",
       "phase             \n",
       "train  29.629242  \n",
       "val    11.163506  "
      ]
     },
     "execution_count": 12,
     "metadata": {},
     "output_type": "execute_result"
    }
   ],
   "source": [
    "df.groupby('phase')['batch_time(s)'].describe()"
   ]
  },
  {
   "cell_type": "code",
   "execution_count": 13,
   "metadata": {},
   "outputs": [
    {
     "data": {
      "text/plain": [
       "count       2.000000\n",
       "mean     1579.016484\n",
       "std         6.662101\n",
       "min      1574.305667\n",
       "25%      1576.661075\n",
       "50%      1579.016484\n",
       "75%      1581.371892\n",
       "max      1583.727301\n",
       "Name: batch_time(s), dtype: float64"
      ]
     },
     "execution_count": 13,
     "metadata": {},
     "output_type": "execute_result"
    }
   ],
   "source": [
    "df.groupby('epoch')['batch_time(s)'].sum().describe()"
   ]
  },
  {
   "cell_type": "markdown",
   "metadata": {},
   "source": [
    "### 5 Microbatches"
   ]
  },
  {
   "cell_type": "code",
   "execution_count": 14,
   "metadata": {},
   "outputs": [],
   "source": [
    "LOG_FILE = '../log/pipe_0_micro5_stage4.csv'\n",
    "\n",
    "df = pd.read_csv(LOG_FILE)\n",
    "df['phase'] = df.replace({'phase': {0: 'train', 1: 'val'}})['phase']"
   ]
  },
  {
   "cell_type": "code",
   "execution_count": 15,
   "metadata": {},
   "outputs": [
    {
     "data": {
      "text/html": [
       "<div>\n",
       "<style scoped>\n",
       "    .dataframe tbody tr th:only-of-type {\n",
       "        vertical-align: middle;\n",
       "    }\n",
       "\n",
       "    .dataframe tbody tr th {\n",
       "        vertical-align: top;\n",
       "    }\n",
       "\n",
       "    .dataframe thead th {\n",
       "        text-align: right;\n",
       "    }\n",
       "</style>\n",
       "<table border=\"1\" class=\"dataframe\">\n",
       "  <thead>\n",
       "    <tr style=\"text-align: right;\">\n",
       "      <th></th>\n",
       "      <th>count</th>\n",
       "      <th>mean</th>\n",
       "      <th>std</th>\n",
       "      <th>min</th>\n",
       "      <th>25%</th>\n",
       "      <th>50%</th>\n",
       "      <th>75%</th>\n",
       "      <th>max</th>\n",
       "    </tr>\n",
       "    <tr>\n",
       "      <th>phase</th>\n",
       "      <th></th>\n",
       "      <th></th>\n",
       "      <th></th>\n",
       "      <th></th>\n",
       "      <th></th>\n",
       "      <th></th>\n",
       "      <th></th>\n",
       "      <th></th>\n",
       "    </tr>\n",
       "  </thead>\n",
       "  <tbody>\n",
       "    <tr>\n",
       "      <th>train</th>\n",
       "      <td>100.0</td>\n",
       "      <td>28.128015</td>\n",
       "      <td>0.085489</td>\n",
       "      <td>27.998015</td>\n",
       "      <td>28.087667</td>\n",
       "      <td>28.114255</td>\n",
       "      <td>28.147949</td>\n",
       "      <td>28.572289</td>\n",
       "    </tr>\n",
       "    <tr>\n",
       "      <th>val</th>\n",
       "      <td>20.0</td>\n",
       "      <td>10.625925</td>\n",
       "      <td>0.032423</td>\n",
       "      <td>10.565432</td>\n",
       "      <td>10.602100</td>\n",
       "      <td>10.621649</td>\n",
       "      <td>10.651275</td>\n",
       "      <td>10.697415</td>\n",
       "    </tr>\n",
       "  </tbody>\n",
       "</table>\n",
       "</div>"
      ],
      "text/plain": [
       "       count       mean       std        min        25%        50%        75%  \\\n",
       "phase                                                                           \n",
       "train  100.0  28.128015  0.085489  27.998015  28.087667  28.114255  28.147949   \n",
       "val     20.0  10.625925  0.032423  10.565432  10.602100  10.621649  10.651275   \n",
       "\n",
       "             max  \n",
       "phase             \n",
       "train  28.572289  \n",
       "val    10.697415  "
      ]
     },
     "execution_count": 15,
     "metadata": {},
     "output_type": "execute_result"
    }
   ],
   "source": [
    "df.groupby('phase')['batch_time(s)'].describe()"
   ]
  },
  {
   "cell_type": "code",
   "execution_count": null,
   "metadata": {},
   "outputs": [
    {
     "data": {
      "text/plain": [
       "count       2.000000\n",
       "mean     1512.660016\n",
       "std         0.405571\n",
       "min      1512.373234\n",
       "25%      1512.516625\n",
       "50%      1512.660016\n",
       "75%      1512.803407\n",
       "max      1512.946799\n",
       "Name: batch_time(s), dtype: float64"
      ]
     },
     "execution_count": 16,
     "metadata": {},
     "output_type": "execute_result"
    }
   ],
   "source": [
    "df.groupby('epoch')['batch_time(s)'].sum().describe()"
   ]
  },
  {
   "cell_type": "markdown",
   "metadata": {},
   "source": [
    "# Data Parallelism + Pipeline"
   ]
  },
  {
   "cell_type": "markdown",
   "metadata": {},
   "source": [
    "### 5 Microbatches"
   ]
  },
  {
   "cell_type": "code",
   "execution_count": 17,
   "metadata": {},
   "outputs": [],
   "source": [
    "LOG_FILE = '../log/datapipe_0_micro5.csv'\n",
    "\n",
    "df = pd.read_csv(LOG_FILE)\n",
    "df['phase'] = df.replace({'phase': {0: 'train', 1: 'val'}})['phase']"
   ]
  },
  {
   "cell_type": "code",
   "execution_count": 18,
   "metadata": {},
   "outputs": [
    {
     "data": {
      "text/html": [
       "<div>\n",
       "<style scoped>\n",
       "    .dataframe tbody tr th:only-of-type {\n",
       "        vertical-align: middle;\n",
       "    }\n",
       "\n",
       "    .dataframe tbody tr th {\n",
       "        vertical-align: top;\n",
       "    }\n",
       "\n",
       "    .dataframe thead th {\n",
       "        text-align: right;\n",
       "    }\n",
       "</style>\n",
       "<table border=\"1\" class=\"dataframe\">\n",
       "  <thead>\n",
       "    <tr style=\"text-align: right;\">\n",
       "      <th></th>\n",
       "      <th>count</th>\n",
       "      <th>mean</th>\n",
       "      <th>std</th>\n",
       "      <th>min</th>\n",
       "      <th>25%</th>\n",
       "      <th>50%</th>\n",
       "      <th>75%</th>\n",
       "      <th>max</th>\n",
       "    </tr>\n",
       "    <tr>\n",
       "      <th>phase</th>\n",
       "      <th></th>\n",
       "      <th></th>\n",
       "      <th></th>\n",
       "      <th></th>\n",
       "      <th></th>\n",
       "      <th></th>\n",
       "      <th></th>\n",
       "      <th></th>\n",
       "    </tr>\n",
       "  </thead>\n",
       "  <tbody>\n",
       "    <tr>\n",
       "      <th>train</th>\n",
       "      <td>100.0</td>\n",
       "      <td>19.188787</td>\n",
       "      <td>0.236941</td>\n",
       "      <td>18.891591</td>\n",
       "      <td>19.056655</td>\n",
       "      <td>19.174020</td>\n",
       "      <td>19.243303</td>\n",
       "      <td>20.772401</td>\n",
       "    </tr>\n",
       "    <tr>\n",
       "      <th>val</th>\n",
       "      <td>20.0</td>\n",
       "      <td>7.338146</td>\n",
       "      <td>0.131296</td>\n",
       "      <td>7.228426</td>\n",
       "      <td>7.263646</td>\n",
       "      <td>7.296045</td>\n",
       "      <td>7.313771</td>\n",
       "      <td>7.656916</td>\n",
       "    </tr>\n",
       "  </tbody>\n",
       "</table>\n",
       "</div>"
      ],
      "text/plain": [
       "       count       mean       std        min        25%        50%        75%  \\\n",
       "phase                                                                           \n",
       "train  100.0  19.188787  0.236941  18.891591  19.056655  19.174020  19.243303   \n",
       "val     20.0   7.338146  0.131296   7.228426   7.263646   7.296045   7.313771   \n",
       "\n",
       "             max  \n",
       "phase             \n",
       "train  20.772401  \n",
       "val     7.656916  "
      ]
     },
     "execution_count": 18,
     "metadata": {},
     "output_type": "execute_result"
    }
   ],
   "source": [
    "df.groupby('phase')['batch_time(s)'].describe()"
   ]
  },
  {
   "cell_type": "code",
   "execution_count": 19,
   "metadata": {},
   "outputs": [
    {
     "data": {
      "text/plain": [
       "count      4.000000\n",
       "mean     516.410408\n",
       "std        1.627128\n",
       "min      515.113935\n",
       "25%      515.524216\n",
       "50%      515.875669\n",
       "75%      516.761860\n",
       "max      518.776358\n",
       "Name: batch_time(s), dtype: float64"
      ]
     },
     "execution_count": 19,
     "metadata": {},
     "output_type": "execute_result"
    }
   ],
   "source": [
    "df.groupby('epoch')['batch_time(s)'].sum().describe()"
   ]
  },
  {
   "cell_type": "markdown",
   "metadata": {},
   "source": [
    "## 10 Microbatches"
   ]
  },
  {
   "cell_type": "code",
   "execution_count": 20,
   "metadata": {},
   "outputs": [],
   "source": [
    "LOG_FILE = '../log/datapipe_0_micro10.csv'\n",
    "\n",
    "df = pd.read_csv(LOG_FILE)\n",
    "df['phase'] = df.replace({'phase': {0: 'train', 1: 'val'}})['phase']"
   ]
  },
  {
   "cell_type": "code",
   "execution_count": 21,
   "metadata": {},
   "outputs": [
    {
     "data": {
      "text/html": [
       "<div>\n",
       "<style scoped>\n",
       "    .dataframe tbody tr th:only-of-type {\n",
       "        vertical-align: middle;\n",
       "    }\n",
       "\n",
       "    .dataframe tbody tr th {\n",
       "        vertical-align: top;\n",
       "    }\n",
       "\n",
       "    .dataframe thead th {\n",
       "        text-align: right;\n",
       "    }\n",
       "</style>\n",
       "<table border=\"1\" class=\"dataframe\">\n",
       "  <thead>\n",
       "    <tr style=\"text-align: right;\">\n",
       "      <th></th>\n",
       "      <th>count</th>\n",
       "      <th>mean</th>\n",
       "      <th>std</th>\n",
       "      <th>min</th>\n",
       "      <th>25%</th>\n",
       "      <th>50%</th>\n",
       "      <th>75%</th>\n",
       "      <th>max</th>\n",
       "    </tr>\n",
       "    <tr>\n",
       "      <th>phase</th>\n",
       "      <th></th>\n",
       "      <th></th>\n",
       "      <th></th>\n",
       "      <th></th>\n",
       "      <th></th>\n",
       "      <th></th>\n",
       "      <th></th>\n",
       "      <th></th>\n",
       "    </tr>\n",
       "  </thead>\n",
       "  <tbody>\n",
       "    <tr>\n",
       "      <th>train</th>\n",
       "      <td>100.0</td>\n",
       "      <td>25.699374</td>\n",
       "      <td>1.180296</td>\n",
       "      <td>19.900962</td>\n",
       "      <td>25.595063</td>\n",
       "      <td>25.914878</td>\n",
       "      <td>26.179133</td>\n",
       "      <td>26.850862</td>\n",
       "    </tr>\n",
       "    <tr>\n",
       "      <th>val</th>\n",
       "      <td>20.0</td>\n",
       "      <td>8.866640</td>\n",
       "      <td>2.563700</td>\n",
       "      <td>7.318862</td>\n",
       "      <td>7.443986</td>\n",
       "      <td>7.685454</td>\n",
       "      <td>7.964949</td>\n",
       "      <td>14.090809</td>\n",
       "    </tr>\n",
       "  </tbody>\n",
       "</table>\n",
       "</div>"
      ],
      "text/plain": [
       "       count       mean       std        min        25%        50%        75%  \\\n",
       "phase                                                                           \n",
       "train  100.0  25.699374  1.180296  19.900962  25.595063  25.914878  26.179133   \n",
       "val     20.0   8.866640  2.563700   7.318862   7.443986   7.685454   7.964949   \n",
       "\n",
       "             max  \n",
       "phase             \n",
       "train  26.850862  \n",
       "val    14.090809  "
      ]
     },
     "execution_count": 21,
     "metadata": {},
     "output_type": "execute_result"
    }
   ],
   "source": [
    "df.groupby('phase')['batch_time(s)'].describe()"
   ]
  },
  {
   "cell_type": "code",
   "execution_count": 22,
   "metadata": {},
   "outputs": [
    {
     "data": {
      "text/plain": [
       "count      4.000000\n",
       "mean     686.817548\n",
       "std        2.687646\n",
       "min      683.086005\n",
       "25%      685.808034\n",
       "50%      687.505006\n",
       "75%      688.514520\n",
       "max      689.174175\n",
       "Name: batch_time(s), dtype: float64"
      ]
     },
     "execution_count": 22,
     "metadata": {},
     "output_type": "execute_result"
    }
   ],
   "source": [
    "df.groupby('epoch')['batch_time(s)'].sum().describe()"
   ]
  },
  {
   "cell_type": "markdown",
   "metadata": {},
   "source": [
    "# Loss Comparison"
   ]
  },
  {
   "cell_type": "code",
   "execution_count": 9,
   "metadata": {},
   "outputs": [],
   "source": [
    "LOG_FILE_SEQ = '../log/seq_loss.csv'\n",
    "LOG_FILE_PAR0 = '../log/datapipe_1_micro5_loss.csv'\n",
    "LOG_FILE_PAR1 = '../log/datapipe_3_micro5_loss.csv'\n",
    "\n",
    "df_seq = pd.read_csv(LOG_FILE_SEQ)\n",
    "df_par0 = pd.read_csv(LOG_FILE_PAR0)\n",
    "df_par1 = pd.read_csv(LOG_FILE_PAR1)\n",
    "\n",
    "df_seq['phase'] = df_seq.replace({'phase': {0: 'train', 1: 'val'}})['phase']\n",
    "df_par0['phase'] = df_par0.replace({'phase': {0: 'train', 1: 'val'}})['phase']\n",
    "df_par1['phase'] = df_par1.replace({'phase': {0: 'train', 1: 'val'}})['phase']"
   ]
  },
  {
   "cell_type": "code",
   "execution_count": 29,
   "metadata": {},
   "outputs": [
    {
     "data": {
      "text/plain": [
       "(np.float64(10.79002571105957),\n",
       " np.float64(10.889022827148438),\n",
       " np.float64(12.868223190307615))"
      ]
     },
     "execution_count": 29,
     "metadata": {},
     "output_type": "execute_result"
    }
   ],
   "source": [
    "df_par0.tail(n=1).iloc[0]['loss'], df_par1.tail(n=1).iloc[0]['loss'], df_seq[:60].tail(n=1).iloc[0]['loss']"
   ]
  },
  {
   "cell_type": "code",
   "execution_count": 32,
   "metadata": {},
   "outputs": [
    {
     "data": {
      "image/png": "[encoded data removed]",
      "text/plain": [
       "<Figure size 640x480 with 1 Axes>"
      ]
     },
     "metadata": {},
     "output_type": "display_data"
    }
   ],
   "source": [
    "plt.rcParams.update({'font.size': 14})\n",
    "\n",
    "y = df_seq[(df_seq['phase'] == 'train')]['loss'].to_numpy()\n",
    "y = y[:len(df_par0[(df_par0['phase'] == 'train')])]\n",
    "x = range(len(y))\n",
    "plt.plot(x, y, label='Sequential')\n",
    "\n",
    "y = df_par0[(df_par0['phase'] == 'train')]['loss'].to_numpy()\n",
    "x = range(len(y))\n",
    "plt.plot(x, y, label='DP: Copy 0', linestyle='--')\n",
    "\n",
    "y = df_par1[(df_par0['phase'] == 'train')]['loss'].to_numpy()\n",
    "x = range(len(y))\n",
    "plt.plot(x, y, label='DP: Copy 1', linestyle='--')\n",
    "\n",
    "plt.legend()\n",
    "\n",
    "plt.title('Training Loss')\n",
    "plt.xlabel('Step')\n",
    "plt.ylabel('CE Loss')\n",
    "plt.show()"
   ]
  }
 ],
 "metadata": {
  "kernelspec": {
   "display_name": "distr",
   "language": "python",
   "name": "python3"
  },
  "language_info": {
   "codemirror_mode": {
    "name": "ipython",
    "version": 3
   },
   "file_extension": ".py",
   "mimetype": "text/x-python",
   "name": "python",
   "nbconvert_exporter": "python",
   "pygments_lexer": "ipython3",
   "version": "3.10.12"
  }
 },
 "nbformat": 4,
 "nbformat_minor": 2
}
